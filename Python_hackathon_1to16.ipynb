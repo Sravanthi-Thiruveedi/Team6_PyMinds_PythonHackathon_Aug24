{
 "cells": [
  {
   "cell_type": "code",
   "execution_count": 6,
   "id": "a1d8224f-f89c-4fdd-b175-d60746749483",
   "metadata": {},
   "outputs": [],
   "source": [
    "import pandas as pd\n",
    "import numpy as np\n",
    "import datetime as dt\n",
    "import matplotlib.pyplot as plt\n",
    "from mpl_toolkits import mplot3d\n",
    "import seaborn as sns\n",
    "import plotly.graph_objects as go\n",
    "from matplotlib.sankey import Sankey\n",
    "#from wordcloud import WordCloud,STOPWORDS\n",
    "import warnings\n",
    "warnings.filterwarnings(\"ignore\")\n"
   ]
  },
  {
   "cell_type": "code",
   "execution_count": 12,
   "id": "d0ddf7eb-aee7-4e62-b15c-177d579fff1b",
   "metadata": {},
   "outputs": [],
   "source": [
    "#Reading excel file sheets\n",
    "DonorDetails = pd.read_excel(\"OrganDonor_Consolidated.xlsx\", \"DonorDetails\")\n",
    "ReferralDetails=pd.read_excel(\"OrganDonor_Consolidated.xlsx\", \"ReferralDetails\")\n",
    "Outcomes=pd.read_excel(\"OrganDonor_Consolidated.xlsx\", \"Outcomes\")\n",
    "OPO_HospDetails=pd.read_excel(\"OrganDonor_Consolidated.xlsx\", \"OPO_HospDetails\")\n",
    "Yearly_Outcomes=pd.read_excel(\"OrganDonor_Consolidated.xlsx\", \"Yearly_Outcomes\")\n"
   ]
  },
  {
   "cell_type": "code",
   "execution_count": 18,
   "id": "be796502-300d-42f0-b8a3-85e8ecd0ccdc",
   "metadata": {},
   "outputs": [
    {
     "data": {
      "text/plain": [
       "PatientID               133101\n",
       "Approached Relatives         2\n",
       "Authorized By Family         2\n",
       "Cross_Clamped                2\n",
       "transplanted                 2\n",
       "Tissue_Referral              2\n",
       "Eye_Referral                 2\n",
       "time_referred           132791\n",
       "time_approached          21685\n",
       "time_authorized          19694\n",
       "time_procured             9531\n",
       "Referral_DayofWeek           7\n",
       "Referral_Year                7\n",
       "Procured_Year                9\n",
       "dtype: int64"
      ]
     },
     "execution_count": 18,
     "metadata": {},
     "output_type": "execute_result"
    }
   ],
   "source": [
    "ReferralDetails.nunique()"
   ]
  },
  {
   "cell_type": "markdown",
   "id": "923c3f2b-c942-4905-be29-5cd04e503c02",
   "metadata": {},
   "source": [
    "**1. Using numpy functions, multiply the following arrays using matrix multiplication.\n",
    " a=np.arange(4).reshape(2,2)\n",
    " b=np.arange(6).reshape(3,2)**\n",
    " \n",
    " "
   ]
  },
  {
   "cell_type": "code",
   "execution_count": 36,
   "id": "8cf952f1-e06e-4142-84ea-e3edc5f58cc5",
   "metadata": {},
   "outputs": [
    {
     "name": "stdout",
     "output_type": "stream",
     "text": [
      "[[0 1]\n",
      " [2 3]]\n",
      "Original Array:\n",
      "[[0 1]\n",
      " [2 3]\n",
      " [4 5]]\n",
      "Transposed Array:\n",
      "[[0 2 4]\n",
      " [1 3 5]]\n",
      "Final Reult:\n",
      "[[ 1  3  5]\n",
      " [ 3 13 23]]\n"
     ]
    }
   ],
   "source": [
    "a=np.arange(4).reshape(2,2)\n",
    "b=np.arange(6).reshape(3,2)\n",
    "print(a)\n",
    "\n",
    "#Transposing array b:\n",
    "print(f'Original Array:\\n{b}')\n",
    "b_transpose=b.transpose()\n",
    "print(f'Transposed Array:\\n{b_transpose}')\n",
    "\n",
    "#Matrix Multiplication\n",
    "matrix=np.matmul(a,b_transpose)\n",
    "\n",
    "print(f'Final Reult:\\n{matrix}')"
   ]
  }
 ],
 "metadata": {
  "kernelspec": {
   "display_name": "Python 3 (ipykernel)",
   "language": "python",
   "name": "python3"
  },
  "language_info": {
   "codemirror_mode": {
    "name": "ipython",
    "version": 3
   },
   "file_extension": ".py",
   "mimetype": "text/x-python",
   "name": "python",
   "nbconvert_exporter": "python",
   "pygments_lexer": "ipython3",
   "version": "3.12.4"
  }
 },
 "nbformat": 4,
 "nbformat_minor": 5
}
